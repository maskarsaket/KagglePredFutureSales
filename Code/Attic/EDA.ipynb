{
 "cells": [
  {
   "cell_type": "markdown",
   "metadata": {},
   "source": [
    "### Importing Libraries"
   ]
  },
  {
   "cell_type": "code",
   "execution_count": 16,
   "metadata": {},
   "outputs": [],
   "source": [
    "import pandas as pd\n",
    "import numpy as np\n",
    "import os\n",
    "from googletrans import Translator\n",
    "from joblib import Parallel, delayed\n",
    "from datetime import datetime\n",
    "\n",
    "import seaborn as sns\n",
    "import matplotlib.pyplot as plt\n",
    "import plotly.express as px"
   ]
  },
  {
   "cell_type": "markdown",
   "metadata": {},
   "source": [
    "### List files in data directory"
   ]
  },
  {
   "cell_type": "code",
   "execution_count": 91,
   "metadata": {},
   "outputs": [
    {
     "name": "stdout",
     "output_type": "stream",
     "text": [
      "['items.csv', 'item_categories.csv', 'test.csv', 'sample_submission.csv', 'sales_train.csv', 'shops.csv']\n"
     ]
    }
   ],
   "source": [
    "ip = '../data/'\n",
    "\n",
    "files = os.listdir(path = ip)\n",
    "\n",
    "print(files)"
   ]
  },
  {
   "cell_type": "markdown",
   "metadata": {},
   "source": [
    "### Read all files"
   ]
  },
  {
   "cell_type": "code",
   "execution_count": 92,
   "metadata": {},
   "outputs": [
    {
     "name": "stdout",
     "output_type": "stream",
     "text": [
      "CPU times: user 1.69 s, sys: 104 ms, total: 1.8 s\n",
      "Wall time: 1.79 s\n"
     ]
    }
   ],
   "source": [
    "%%time\n",
    "\n",
    "data = dict()\n",
    "for file in files:\n",
    "    data[file[:-4]] = pd.read_csv(ip + file)\n",
    "    \n",
    "data['sales_train']['date'] = pd.to_datetime(data['sales_train']['date'], format = '%d.%m.%Y')"
   ]
  },
  {
   "cell_type": "code",
   "execution_count": 93,
   "metadata": {},
   "outputs": [],
   "source": [
    "### create temporal features"
   ]
  },
  {
   "cell_type": "code",
   "execution_count": 94,
   "metadata": {},
   "outputs": [
    {
     "name": "stdout",
     "output_type": "stream",
     "text": [
      "CPU times: user 26.4 s, sys: 111 ms, total: 26.6 s\n",
      "Wall time: 26.6 s\n"
     ]
    }
   ],
   "source": [
    "%%time\n",
    "\n",
    "data['sales_train']['year'] = data['sales_train']['date'].dt.year\n",
    "data['sales_train']['month'] = data['sales_train']['date'].dt.month\n",
    "data['sales_train']['dow'] = [datetime.strftime(i, '%A') for i in data['sales_train']['date']]"
   ]
  },
  {
   "cell_type": "code",
   "execution_count": 95,
   "metadata": {},
   "outputs": [],
   "source": [
    "data['sales_train']['mkey'] = [f\"{i}_{j}\" \n",
    "                               for i, j in zip(data['sales_train']['shop_id'], data['sales_train']['item_id'])]"
   ]
  },
  {
   "cell_type": "code",
   "execution_count": 96,
   "metadata": {},
   "outputs": [
    {
     "data": {
      "text/html": [
       "<div>\n",
       "<style scoped>\n",
       "    .dataframe tbody tr th:only-of-type {\n",
       "        vertical-align: middle;\n",
       "    }\n",
       "\n",
       "    .dataframe tbody tr th {\n",
       "        vertical-align: top;\n",
       "    }\n",
       "\n",
       "    .dataframe thead th {\n",
       "        text-align: right;\n",
       "    }\n",
       "</style>\n",
       "<table border=\"1\" class=\"dataframe\">\n",
       "  <thead>\n",
       "    <tr style=\"text-align: right;\">\n",
       "      <th></th>\n",
       "      <th>date</th>\n",
       "      <th>date_block_num</th>\n",
       "      <th>shop_id</th>\n",
       "      <th>item_id</th>\n",
       "      <th>item_price</th>\n",
       "      <th>item_cnt_day</th>\n",
       "      <th>year</th>\n",
       "      <th>month</th>\n",
       "      <th>dow</th>\n",
       "      <th>mkey</th>\n",
       "    </tr>\n",
       "  </thead>\n",
       "  <tbody>\n",
       "    <tr>\n",
       "      <th>1829233</th>\n",
       "      <td>2014-07-19</td>\n",
       "      <td>18</td>\n",
       "      <td>13</td>\n",
       "      <td>6497</td>\n",
       "      <td>563.74</td>\n",
       "      <td>1.0</td>\n",
       "      <td>2014</td>\n",
       "      <td>7</td>\n",
       "      <td>Saturday</td>\n",
       "      <td>13_6497</td>\n",
       "    </tr>\n",
       "    <tr>\n",
       "      <th>63913</th>\n",
       "      <td>2013-01-02</td>\n",
       "      <td>0</td>\n",
       "      <td>30</td>\n",
       "      <td>5612</td>\n",
       "      <td>3990.00</td>\n",
       "      <td>1.0</td>\n",
       "      <td>2013</td>\n",
       "      <td>1</td>\n",
       "      <td>Wednesday</td>\n",
       "      <td>30_5612</td>\n",
       "    </tr>\n",
       "    <tr>\n",
       "      <th>1686377</th>\n",
       "      <td>2014-05-31</td>\n",
       "      <td>16</td>\n",
       "      <td>38</td>\n",
       "      <td>6702</td>\n",
       "      <td>399.50</td>\n",
       "      <td>1.0</td>\n",
       "      <td>2014</td>\n",
       "      <td>5</td>\n",
       "      <td>Saturday</td>\n",
       "      <td>38_6702</td>\n",
       "    </tr>\n",
       "    <tr>\n",
       "      <th>2629476</th>\n",
       "      <td>2015-05-26</td>\n",
       "      <td>28</td>\n",
       "      <td>28</td>\n",
       "      <td>18047</td>\n",
       "      <td>299.00</td>\n",
       "      <td>1.0</td>\n",
       "      <td>2015</td>\n",
       "      <td>5</td>\n",
       "      <td>Tuesday</td>\n",
       "      <td>28_18047</td>\n",
       "    </tr>\n",
       "    <tr>\n",
       "      <th>2241304</th>\n",
       "      <td>2014-12-22</td>\n",
       "      <td>23</td>\n",
       "      <td>38</td>\n",
       "      <td>1569</td>\n",
       "      <td>2999.00</td>\n",
       "      <td>1.0</td>\n",
       "      <td>2014</td>\n",
       "      <td>12</td>\n",
       "      <td>Monday</td>\n",
       "      <td>38_1569</td>\n",
       "    </tr>\n",
       "    <tr>\n",
       "      <th>489317</th>\n",
       "      <td>2013-05-17</td>\n",
       "      <td>4</td>\n",
       "      <td>54</td>\n",
       "      <td>17273</td>\n",
       "      <td>98.00</td>\n",
       "      <td>1.0</td>\n",
       "      <td>2013</td>\n",
       "      <td>5</td>\n",
       "      <td>Friday</td>\n",
       "      <td>54_17273</td>\n",
       "    </tr>\n",
       "    <tr>\n",
       "      <th>512392</th>\n",
       "      <td>2013-05-13</td>\n",
       "      <td>4</td>\n",
       "      <td>7</td>\n",
       "      <td>20949</td>\n",
       "      <td>5.00</td>\n",
       "      <td>4.0</td>\n",
       "      <td>2013</td>\n",
       "      <td>5</td>\n",
       "      <td>Monday</td>\n",
       "      <td>7_20949</td>\n",
       "    </tr>\n",
       "    <tr>\n",
       "      <th>2880516</th>\n",
       "      <td>2015-09-27</td>\n",
       "      <td>32</td>\n",
       "      <td>25</td>\n",
       "      <td>16287</td>\n",
       "      <td>199.00</td>\n",
       "      <td>1.0</td>\n",
       "      <td>2015</td>\n",
       "      <td>9</td>\n",
       "      <td>Sunday</td>\n",
       "      <td>25_16287</td>\n",
       "    </tr>\n",
       "    <tr>\n",
       "      <th>1709661</th>\n",
       "      <td>2014-06-27</td>\n",
       "      <td>17</td>\n",
       "      <td>27</td>\n",
       "      <td>15458</td>\n",
       "      <td>459.00</td>\n",
       "      <td>1.0</td>\n",
       "      <td>2014</td>\n",
       "      <td>6</td>\n",
       "      <td>Friday</td>\n",
       "      <td>27_15458</td>\n",
       "    </tr>\n",
       "    <tr>\n",
       "      <th>911842</th>\n",
       "      <td>2013-09-05</td>\n",
       "      <td>8</td>\n",
       "      <td>30</td>\n",
       "      <td>21427</td>\n",
       "      <td>149.00</td>\n",
       "      <td>1.0</td>\n",
       "      <td>2013</td>\n",
       "      <td>9</td>\n",
       "      <td>Thursday</td>\n",
       "      <td>30_21427</td>\n",
       "    </tr>\n",
       "  </tbody>\n",
       "</table>\n",
       "</div>"
      ],
      "text/plain": [
       "              date  date_block_num  shop_id  item_id  item_price  \\\n",
       "1829233 2014-07-19              18       13     6497      563.74   \n",
       "63913   2013-01-02               0       30     5612     3990.00   \n",
       "1686377 2014-05-31              16       38     6702      399.50   \n",
       "2629476 2015-05-26              28       28    18047      299.00   \n",
       "2241304 2014-12-22              23       38     1569     2999.00   \n",
       "489317  2013-05-17               4       54    17273       98.00   \n",
       "512392  2013-05-13               4        7    20949        5.00   \n",
       "2880516 2015-09-27              32       25    16287      199.00   \n",
       "1709661 2014-06-27              17       27    15458      459.00   \n",
       "911842  2013-09-05               8       30    21427      149.00   \n",
       "\n",
       "         item_cnt_day  year  month        dow      mkey  \n",
       "1829233           1.0  2014      7   Saturday   13_6497  \n",
       "63913             1.0  2013      1  Wednesday   30_5612  \n",
       "1686377           1.0  2014      5   Saturday   38_6702  \n",
       "2629476           1.0  2015      5    Tuesday  28_18047  \n",
       "2241304           1.0  2014     12     Monday   38_1569  \n",
       "489317            1.0  2013      5     Friday  54_17273  \n",
       "512392            4.0  2013      5     Monday   7_20949  \n",
       "2880516           1.0  2015      9     Sunday  25_16287  \n",
       "1709661           1.0  2014      6     Friday  27_15458  \n",
       "911842            1.0  2013      9   Thursday  30_21427  "
      ]
     },
     "execution_count": 96,
     "metadata": {},
     "output_type": "execute_result"
    }
   ],
   "source": [
    "data['sales_train'].sample(10)"
   ]
  },
  {
   "cell_type": "code",
   "execution_count": 97,
   "metadata": {},
   "outputs": [
    {
     "data": {
      "text/plain": [
       "424124"
      ]
     },
     "execution_count": 97,
     "metadata": {},
     "output_type": "execute_result"
    }
   ],
   "source": [
    "len(np.unique(data['sales_train']['mkey']))"
   ]
  },
  {
   "cell_type": "code",
   "execution_count": 98,
   "metadata": {},
   "outputs": [],
   "source": [
    "#### view overall sales pattern at monthly level"
   ]
  },
  {
   "cell_type": "code",
   "execution_count": 99,
   "metadata": {},
   "outputs": [],
   "source": [
    "from plotutils import dualaxislineplot"
   ]
  },
  {
   "cell_type": "code",
   "execution_count": 100,
   "metadata": {},
   "outputs": [
    {
     "data": {
      "application/vnd.plotly.v1+json": {
       "config": {
        "plotlyServerURL": "https://plot.ly"
       },
       "data": [
        {
         "name": "item_cnt_day",
         "type": "scatter",
         "x": [
          "_201301",
          "_201302",
          "_201303",
          "_201304",
          "_201305",
          "_201306",
          "_201307",
          "_201308",
          "_201309",
          "_201310",
          "_201311",
          "_201312",
          "_201401",
          "_201402",
          "_201403",
          "_201404",
          "_201405",
          "_201406",
          "_201407",
          "_201408",
          "_201409",
          "_201410",
          "_201411",
          "_201412",
          "_201501",
          "_201502",
          "_201503",
          "_201504",
          "_201505",
          "_201506",
          "_201507",
          "_201508",
          "_201509",
          "_201510"
         ],
         "xaxis": "x",
         "y": [
          131479,
          128090,
          147142,
          107190,
          106970,
          125381,
          116966,
          125291,
          133332,
          127541,
          130009,
          183342,
          116899,
          109687,
          115297,
          96556,
          97790,
          97429,
          91280,
          102721,
          99208,
          107422,
          117845,
          168755,
          110971,
          84198,
          82014,
          77827,
          72295,
          64114,
          63187,
          66079,
          72843,
          71056
         ],
         "yaxis": "y"
        },
        {
         "name": "mkey",
         "type": "scatter",
         "x": [
          "_201301",
          "_201302",
          "_201303",
          "_201304",
          "_201305",
          "_201306",
          "_201307",
          "_201308",
          "_201309",
          "_201310",
          "_201311",
          "_201312",
          "_201401",
          "_201402",
          "_201403",
          "_201404",
          "_201405",
          "_201406",
          "_201407",
          "_201408",
          "_201409",
          "_201410",
          "_201411",
          "_201412",
          "_201501",
          "_201502",
          "_201503",
          "_201504",
          "_201505",
          "_201506",
          "_201507",
          "_201508",
          "_201509",
          "_201510"
         ],
         "xaxis": "x",
         "y": [
          63224,
          59935,
          63977,
          54638,
          53296,
          56196,
          58035,
          58022,
          51575,
          51090,
          51460,
          66276,
          53320,
          47704,
          49291,
          44740,
          45766,
          46481,
          45756,
          46439,
          40423,
          42595,
          45755,
          59275,
          46775,
          41390,
          40464,
          32875,
          32220,
          31909,
          33527,
          33486,
          29678,
          31531
         ],
         "yaxis": "y2"
        }
       ],
       "layout": {
        "template": {
         "data": {
          "bar": [
           {
            "error_x": {
             "color": "#2a3f5f"
            },
            "error_y": {
             "color": "#2a3f5f"
            },
            "marker": {
             "line": {
              "color": "#E5ECF6",
              "width": 0.5
             }
            },
            "type": "bar"
           }
          ],
          "barpolar": [
           {
            "marker": {
             "line": {
              "color": "#E5ECF6",
              "width": 0.5
             }
            },
            "type": "barpolar"
           }
          ],
          "carpet": [
           {
            "aaxis": {
             "endlinecolor": "#2a3f5f",
             "gridcolor": "white",
             "linecolor": "white",
             "minorgridcolor": "white",
             "startlinecolor": "#2a3f5f"
            },
            "baxis": {
             "endlinecolor": "#2a3f5f",
             "gridcolor": "white",
             "linecolor": "white",
             "minorgridcolor": "white",
             "startlinecolor": "#2a3f5f"
            },
            "type": "carpet"
           }
          ],
          "choropleth": [
           {
            "colorbar": {
             "outlinewidth": 0,
             "ticks": ""
            },
            "type": "choropleth"
           }
          ],
          "contour": [
           {
            "colorbar": {
             "outlinewidth": 0,
             "ticks": ""
            },
            "colorscale": [
             [
              0,
              "#0d0887"
             ],
             [
              0.1111111111111111,
              "#46039f"
             ],
             [
              0.2222222222222222,
              "#7201a8"
             ],
             [
              0.3333333333333333,
              "#9c179e"
             ],
             [
              0.4444444444444444,
              "#bd3786"
             ],
             [
              0.5555555555555556,
              "#d8576b"
             ],
             [
              0.6666666666666666,
              "#ed7953"
             ],
             [
              0.7777777777777778,
              "#fb9f3a"
             ],
             [
              0.8888888888888888,
              "#fdca26"
             ],
             [
              1,
              "#f0f921"
             ]
            ],
            "type": "contour"
           }
          ],
          "contourcarpet": [
           {
            "colorbar": {
             "outlinewidth": 0,
             "ticks": ""
            },
            "type": "contourcarpet"
           }
          ],
          "heatmap": [
           {
            "colorbar": {
             "outlinewidth": 0,
             "ticks": ""
            },
            "colorscale": [
             [
              0,
              "#0d0887"
             ],
             [
              0.1111111111111111,
              "#46039f"
             ],
             [
              0.2222222222222222,
              "#7201a8"
             ],
             [
              0.3333333333333333,
              "#9c179e"
             ],
             [
              0.4444444444444444,
              "#bd3786"
             ],
             [
              0.5555555555555556,
              "#d8576b"
             ],
             [
              0.6666666666666666,
              "#ed7953"
             ],
             [
              0.7777777777777778,
              "#fb9f3a"
             ],
             [
              0.8888888888888888,
              "#fdca26"
             ],
             [
              1,
              "#f0f921"
             ]
            ],
            "type": "heatmap"
           }
          ],
          "heatmapgl": [
           {
            "colorbar": {
             "outlinewidth": 0,
             "ticks": ""
            },
            "colorscale": [
             [
              0,
              "#0d0887"
             ],
             [
              0.1111111111111111,
              "#46039f"
             ],
             [
              0.2222222222222222,
              "#7201a8"
             ],
             [
              0.3333333333333333,
              "#9c179e"
             ],
             [
              0.4444444444444444,
              "#bd3786"
             ],
             [
              0.5555555555555556,
              "#d8576b"
             ],
             [
              0.6666666666666666,
              "#ed7953"
             ],
             [
              0.7777777777777778,
              "#fb9f3a"
             ],
             [
              0.8888888888888888,
              "#fdca26"
             ],
             [
              1,
              "#f0f921"
             ]
            ],
            "type": "heatmapgl"
           }
          ],
          "histogram": [
           {
            "marker": {
             "colorbar": {
              "outlinewidth": 0,
              "ticks": ""
             }
            },
            "type": "histogram"
           }
          ],
          "histogram2d": [
           {
            "colorbar": {
             "outlinewidth": 0,
             "ticks": ""
            },
            "colorscale": [
             [
              0,
              "#0d0887"
             ],
             [
              0.1111111111111111,
              "#46039f"
             ],
             [
              0.2222222222222222,
              "#7201a8"
             ],
             [
              0.3333333333333333,
              "#9c179e"
             ],
             [
              0.4444444444444444,
              "#bd3786"
             ],
             [
              0.5555555555555556,
              "#d8576b"
             ],
             [
              0.6666666666666666,
              "#ed7953"
             ],
             [
              0.7777777777777778,
              "#fb9f3a"
             ],
             [
              0.8888888888888888,
              "#fdca26"
             ],
             [
              1,
              "#f0f921"
             ]
            ],
            "type": "histogram2d"
           }
          ],
          "histogram2dcontour": [
           {
            "colorbar": {
             "outlinewidth": 0,
             "ticks": ""
            },
            "colorscale": [
             [
              0,
              "#0d0887"
             ],
             [
              0.1111111111111111,
              "#46039f"
             ],
             [
              0.2222222222222222,
              "#7201a8"
             ],
             [
              0.3333333333333333,
              "#9c179e"
             ],
             [
              0.4444444444444444,
              "#bd3786"
             ],
             [
              0.5555555555555556,
              "#d8576b"
             ],
             [
              0.6666666666666666,
              "#ed7953"
             ],
             [
              0.7777777777777778,
              "#fb9f3a"
             ],
             [
              0.8888888888888888,
              "#fdca26"
             ],
             [
              1,
              "#f0f921"
             ]
            ],
            "type": "histogram2dcontour"
           }
          ],
          "mesh3d": [
           {
            "colorbar": {
             "outlinewidth": 0,
             "ticks": ""
            },
            "type": "mesh3d"
           }
          ],
          "parcoords": [
           {
            "line": {
             "colorbar": {
              "outlinewidth": 0,
              "ticks": ""
             }
            },
            "type": "parcoords"
           }
          ],
          "pie": [
           {
            "automargin": true,
            "type": "pie"
           }
          ],
          "scatter": [
           {
            "marker": {
             "colorbar": {
              "outlinewidth": 0,
              "ticks": ""
             }
            },
            "type": "scatter"
           }
          ],
          "scatter3d": [
           {
            "line": {
             "colorbar": {
              "outlinewidth": 0,
              "ticks": ""
             }
            },
            "marker": {
             "colorbar": {
              "outlinewidth": 0,
              "ticks": ""
             }
            },
            "type": "scatter3d"
           }
          ],
          "scattercarpet": [
           {
            "marker": {
             "colorbar": {
              "outlinewidth": 0,
              "ticks": ""
             }
            },
            "type": "scattercarpet"
           }
          ],
          "scattergeo": [
           {
            "marker": {
             "colorbar": {
              "outlinewidth": 0,
              "ticks": ""
             }
            },
            "type": "scattergeo"
           }
          ],
          "scattergl": [
           {
            "marker": {
             "colorbar": {
              "outlinewidth": 0,
              "ticks": ""
             }
            },
            "type": "scattergl"
           }
          ],
          "scattermapbox": [
           {
            "marker": {
             "colorbar": {
              "outlinewidth": 0,
              "ticks": ""
             }
            },
            "type": "scattermapbox"
           }
          ],
          "scatterpolar": [
           {
            "marker": {
             "colorbar": {
              "outlinewidth": 0,
              "ticks": ""
             }
            },
            "type": "scatterpolar"
           }
          ],
          "scatterpolargl": [
           {
            "marker": {
             "colorbar": {
              "outlinewidth": 0,
              "ticks": ""
             }
            },
            "type": "scatterpolargl"
           }
          ],
          "scatterternary": [
           {
            "marker": {
             "colorbar": {
              "outlinewidth": 0,
              "ticks": ""
             }
            },
            "type": "scatterternary"
           }
          ],
          "surface": [
           {
            "colorbar": {
             "outlinewidth": 0,
             "ticks": ""
            },
            "colorscale": [
             [
              0,
              "#0d0887"
             ],
             [
              0.1111111111111111,
              "#46039f"
             ],
             [
              0.2222222222222222,
              "#7201a8"
             ],
             [
              0.3333333333333333,
              "#9c179e"
             ],
             [
              0.4444444444444444,
              "#bd3786"
             ],
             [
              0.5555555555555556,
              "#d8576b"
             ],
             [
              0.6666666666666666,
              "#ed7953"
             ],
             [
              0.7777777777777778,
              "#fb9f3a"
             ],
             [
              0.8888888888888888,
              "#fdca26"
             ],
             [
              1,
              "#f0f921"
             ]
            ],
            "type": "surface"
           }
          ],
          "table": [
           {
            "cells": {
             "fill": {
              "color": "#EBF0F8"
             },
             "line": {
              "color": "white"
             }
            },
            "header": {
             "fill": {
              "color": "#C8D4E3"
             },
             "line": {
              "color": "white"
             }
            },
            "type": "table"
           }
          ]
         },
         "layout": {
          "annotationdefaults": {
           "arrowcolor": "#2a3f5f",
           "arrowhead": 0,
           "arrowwidth": 1
          },
          "coloraxis": {
           "colorbar": {
            "outlinewidth": 0,
            "ticks": ""
           }
          },
          "colorscale": {
           "diverging": [
            [
             0,
             "#8e0152"
            ],
            [
             0.1,
             "#c51b7d"
            ],
            [
             0.2,
             "#de77ae"
            ],
            [
             0.3,
             "#f1b6da"
            ],
            [
             0.4,
             "#fde0ef"
            ],
            [
             0.5,
             "#f7f7f7"
            ],
            [
             0.6,
             "#e6f5d0"
            ],
            [
             0.7,
             "#b8e186"
            ],
            [
             0.8,
             "#7fbc41"
            ],
            [
             0.9,
             "#4d9221"
            ],
            [
             1,
             "#276419"
            ]
           ],
           "sequential": [
            [
             0,
             "#0d0887"
            ],
            [
             0.1111111111111111,
             "#46039f"
            ],
            [
             0.2222222222222222,
             "#7201a8"
            ],
            [
             0.3333333333333333,
             "#9c179e"
            ],
            [
             0.4444444444444444,
             "#bd3786"
            ],
            [
             0.5555555555555556,
             "#d8576b"
            ],
            [
             0.6666666666666666,
             "#ed7953"
            ],
            [
             0.7777777777777778,
             "#fb9f3a"
            ],
            [
             0.8888888888888888,
             "#fdca26"
            ],
            [
             1,
             "#f0f921"
            ]
           ],
           "sequentialminus": [
            [
             0,
             "#0d0887"
            ],
            [
             0.1111111111111111,
             "#46039f"
            ],
            [
             0.2222222222222222,
             "#7201a8"
            ],
            [
             0.3333333333333333,
             "#9c179e"
            ],
            [
             0.4444444444444444,
             "#bd3786"
            ],
            [
             0.5555555555555556,
             "#d8576b"
            ],
            [
             0.6666666666666666,
             "#ed7953"
            ],
            [
             0.7777777777777778,
             "#fb9f3a"
            ],
            [
             0.8888888888888888,
             "#fdca26"
            ],
            [
             1,
             "#f0f921"
            ]
           ]
          },
          "colorway": [
           "#636efa",
           "#EF553B",
           "#00cc96",
           "#ab63fa",
           "#FFA15A",
           "#19d3f3",
           "#FF6692",
           "#B6E880",
           "#FF97FF",
           "#FECB52"
          ],
          "font": {
           "color": "#2a3f5f"
          },
          "geo": {
           "bgcolor": "white",
           "lakecolor": "white",
           "landcolor": "#E5ECF6",
           "showlakes": true,
           "showland": true,
           "subunitcolor": "white"
          },
          "hoverlabel": {
           "align": "left"
          },
          "hovermode": "closest",
          "mapbox": {
           "style": "light"
          },
          "paper_bgcolor": "white",
          "plot_bgcolor": "#E5ECF6",
          "polar": {
           "angularaxis": {
            "gridcolor": "white",
            "linecolor": "white",
            "ticks": ""
           },
           "bgcolor": "#E5ECF6",
           "radialaxis": {
            "gridcolor": "white",
            "linecolor": "white",
            "ticks": ""
           }
          },
          "scene": {
           "xaxis": {
            "backgroundcolor": "#E5ECF6",
            "gridcolor": "white",
            "gridwidth": 2,
            "linecolor": "white",
            "showbackground": true,
            "ticks": "",
            "zerolinecolor": "white"
           },
           "yaxis": {
            "backgroundcolor": "#E5ECF6",
            "gridcolor": "white",
            "gridwidth": 2,
            "linecolor": "white",
            "showbackground": true,
            "ticks": "",
            "zerolinecolor": "white"
           },
           "zaxis": {
            "backgroundcolor": "#E5ECF6",
            "gridcolor": "white",
            "gridwidth": 2,
            "linecolor": "white",
            "showbackground": true,
            "ticks": "",
            "zerolinecolor": "white"
           }
          },
          "shapedefaults": {
           "line": {
            "color": "#2a3f5f"
           }
          },
          "ternary": {
           "aaxis": {
            "gridcolor": "white",
            "linecolor": "white",
            "ticks": ""
           },
           "baxis": {
            "gridcolor": "white",
            "linecolor": "white",
            "ticks": ""
           },
           "bgcolor": "#E5ECF6",
           "caxis": {
            "gridcolor": "white",
            "linecolor": "white",
            "ticks": ""
           }
          },
          "title": {
           "x": 0.05
          },
          "xaxis": {
           "automargin": true,
           "gridcolor": "white",
           "linecolor": "white",
           "ticks": "",
           "title": {
            "standoff": 15
           },
           "zerolinecolor": "white",
           "zerolinewidth": 2
          },
          "yaxis": {
           "automargin": true,
           "gridcolor": "white",
           "linecolor": "white",
           "ticks": "",
           "title": {
            "standoff": 15
           },
           "zerolinecolor": "white",
           "zerolinewidth": 2
          }
         }
        },
        "title": {
         "text": "sales"
        },
        "xaxis": {
         "anchor": "y",
         "domain": [
          0,
          0.94
         ]
        },
        "yaxis": {
         "anchor": "x",
         "domain": [
          0,
          1
         ],
         "title": {
          "text": "item_cnt_day"
         }
        },
        "yaxis2": {
         "anchor": "x",
         "overlaying": "y",
         "side": "right",
         "title": {
          "text": "mkey"
         }
        }
       }
      },
      "text/html": [
       "<div>\n",
       "        \n",
       "        \n",
       "            <div id=\"d196ec24-8811-45be-a61c-12688db55515\" class=\"plotly-graph-div\" style=\"height:525px; width:100%;\"></div>\n",
       "            <script type=\"text/javascript\">\n",
       "                require([\"plotly\"], function(Plotly) {\n",
       "                    window.PLOTLYENV=window.PLOTLYENV || {};\n",
       "                    \n",
       "                if (document.getElementById(\"d196ec24-8811-45be-a61c-12688db55515\")) {\n",
       "                    Plotly.newPlot(\n",
       "                        'd196ec24-8811-45be-a61c-12688db55515',\n",
       "                        [{\"name\": \"item_cnt_day\", \"type\": \"scatter\", \"x\": [\"_201301\", \"_201302\", \"_201303\", \"_201304\", \"_201305\", \"_201306\", \"_201307\", \"_201308\", \"_201309\", \"_201310\", \"_201311\", \"_201312\", \"_201401\", \"_201402\", \"_201403\", \"_201404\", \"_201405\", \"_201406\", \"_201407\", \"_201408\", \"_201409\", \"_201410\", \"_201411\", \"_201412\", \"_201501\", \"_201502\", \"_201503\", \"_201504\", \"_201505\", \"_201506\", \"_201507\", \"_201508\", \"_201509\", \"_201510\"], \"xaxis\": \"x\", \"y\": [131479.0, 128090.0, 147142.0, 107190.0, 106970.0, 125381.0, 116966.0, 125291.0, 133332.0, 127541.0, 130009.0, 183342.0, 116899.0, 109687.0, 115297.0, 96556.0, 97790.0, 97429.0, 91280.0, 102721.0, 99208.0, 107422.0, 117845.0, 168755.0, 110971.0, 84198.0, 82014.0, 77827.0, 72295.0, 64114.0, 63187.0, 66079.0, 72843.0, 71056.0], \"yaxis\": \"y\"}, {\"name\": \"mkey\", \"type\": \"scatter\", \"x\": [\"_201301\", \"_201302\", \"_201303\", \"_201304\", \"_201305\", \"_201306\", \"_201307\", \"_201308\", \"_201309\", \"_201310\", \"_201311\", \"_201312\", \"_201401\", \"_201402\", \"_201403\", \"_201404\", \"_201405\", \"_201406\", \"_201407\", \"_201408\", \"_201409\", \"_201410\", \"_201411\", \"_201412\", \"_201501\", \"_201502\", \"_201503\", \"_201504\", \"_201505\", \"_201506\", \"_201507\", \"_201508\", \"_201509\", \"_201510\"], \"xaxis\": \"x\", \"y\": [63224, 59935, 63977, 54638, 53296, 56196, 58035, 58022, 51575, 51090, 51460, 66276, 53320, 47704, 49291, 44740, 45766, 46481, 45756, 46439, 40423, 42595, 45755, 59275, 46775, 41390, 40464, 32875, 32220, 31909, 33527, 33486, 29678, 31531], \"yaxis\": \"y2\"}],\n",
       "                        {\"template\": {\"data\": {\"bar\": [{\"error_x\": {\"color\": \"#2a3f5f\"}, \"error_y\": {\"color\": \"#2a3f5f\"}, \"marker\": {\"line\": {\"color\": \"#E5ECF6\", \"width\": 0.5}}, \"type\": \"bar\"}], \"barpolar\": [{\"marker\": {\"line\": {\"color\": \"#E5ECF6\", \"width\": 0.5}}, \"type\": \"barpolar\"}], \"carpet\": [{\"aaxis\": {\"endlinecolor\": \"#2a3f5f\", \"gridcolor\": \"white\", \"linecolor\": \"white\", \"minorgridcolor\": \"white\", \"startlinecolor\": \"#2a3f5f\"}, \"baxis\": {\"endlinecolor\": \"#2a3f5f\", \"gridcolor\": \"white\", \"linecolor\": \"white\", \"minorgridcolor\": \"white\", \"startlinecolor\": \"#2a3f5f\"}, \"type\": \"carpet\"}], \"choropleth\": [{\"colorbar\": {\"outlinewidth\": 0, \"ticks\": \"\"}, \"type\": \"choropleth\"}], \"contour\": [{\"colorbar\": {\"outlinewidth\": 0, \"ticks\": \"\"}, \"colorscale\": [[0.0, \"#0d0887\"], [0.1111111111111111, \"#46039f\"], [0.2222222222222222, \"#7201a8\"], [0.3333333333333333, \"#9c179e\"], [0.4444444444444444, \"#bd3786\"], [0.5555555555555556, \"#d8576b\"], [0.6666666666666666, \"#ed7953\"], [0.7777777777777778, \"#fb9f3a\"], [0.8888888888888888, \"#fdca26\"], [1.0, \"#f0f921\"]], \"type\": \"contour\"}], \"contourcarpet\": [{\"colorbar\": {\"outlinewidth\": 0, \"ticks\": \"\"}, \"type\": \"contourcarpet\"}], \"heatmap\": [{\"colorbar\": {\"outlinewidth\": 0, \"ticks\": \"\"}, \"colorscale\": [[0.0, \"#0d0887\"], [0.1111111111111111, \"#46039f\"], [0.2222222222222222, \"#7201a8\"], [0.3333333333333333, \"#9c179e\"], [0.4444444444444444, \"#bd3786\"], [0.5555555555555556, \"#d8576b\"], [0.6666666666666666, \"#ed7953\"], [0.7777777777777778, \"#fb9f3a\"], [0.8888888888888888, \"#fdca26\"], [1.0, \"#f0f921\"]], \"type\": \"heatmap\"}], \"heatmapgl\": [{\"colorbar\": {\"outlinewidth\": 0, \"ticks\": \"\"}, \"colorscale\": [[0.0, \"#0d0887\"], [0.1111111111111111, \"#46039f\"], [0.2222222222222222, \"#7201a8\"], [0.3333333333333333, \"#9c179e\"], [0.4444444444444444, \"#bd3786\"], [0.5555555555555556, \"#d8576b\"], [0.6666666666666666, \"#ed7953\"], [0.7777777777777778, \"#fb9f3a\"], [0.8888888888888888, \"#fdca26\"], [1.0, \"#f0f921\"]], \"type\": \"heatmapgl\"}], \"histogram\": [{\"marker\": {\"colorbar\": {\"outlinewidth\": 0, \"ticks\": \"\"}}, \"type\": \"histogram\"}], \"histogram2d\": [{\"colorbar\": {\"outlinewidth\": 0, \"ticks\": \"\"}, \"colorscale\": [[0.0, \"#0d0887\"], [0.1111111111111111, \"#46039f\"], [0.2222222222222222, \"#7201a8\"], [0.3333333333333333, \"#9c179e\"], [0.4444444444444444, \"#bd3786\"], [0.5555555555555556, \"#d8576b\"], [0.6666666666666666, \"#ed7953\"], [0.7777777777777778, \"#fb9f3a\"], [0.8888888888888888, \"#fdca26\"], [1.0, \"#f0f921\"]], \"type\": \"histogram2d\"}], \"histogram2dcontour\": [{\"colorbar\": {\"outlinewidth\": 0, \"ticks\": \"\"}, \"colorscale\": [[0.0, \"#0d0887\"], [0.1111111111111111, \"#46039f\"], [0.2222222222222222, \"#7201a8\"], [0.3333333333333333, \"#9c179e\"], [0.4444444444444444, \"#bd3786\"], [0.5555555555555556, \"#d8576b\"], [0.6666666666666666, \"#ed7953\"], [0.7777777777777778, \"#fb9f3a\"], [0.8888888888888888, \"#fdca26\"], [1.0, \"#f0f921\"]], \"type\": \"histogram2dcontour\"}], \"mesh3d\": [{\"colorbar\": {\"outlinewidth\": 0, \"ticks\": \"\"}, \"type\": \"mesh3d\"}], \"parcoords\": [{\"line\": {\"colorbar\": {\"outlinewidth\": 0, \"ticks\": \"\"}}, \"type\": \"parcoords\"}], \"pie\": [{\"automargin\": true, \"type\": \"pie\"}], \"scatter\": [{\"marker\": {\"colorbar\": {\"outlinewidth\": 0, \"ticks\": \"\"}}, \"type\": \"scatter\"}], \"scatter3d\": [{\"line\": {\"colorbar\": {\"outlinewidth\": 0, \"ticks\": \"\"}}, \"marker\": {\"colorbar\": {\"outlinewidth\": 0, \"ticks\": \"\"}}, \"type\": \"scatter3d\"}], \"scattercarpet\": [{\"marker\": {\"colorbar\": {\"outlinewidth\": 0, \"ticks\": \"\"}}, \"type\": \"scattercarpet\"}], \"scattergeo\": [{\"marker\": {\"colorbar\": {\"outlinewidth\": 0, \"ticks\": \"\"}}, \"type\": \"scattergeo\"}], \"scattergl\": [{\"marker\": {\"colorbar\": {\"outlinewidth\": 0, \"ticks\": \"\"}}, \"type\": \"scattergl\"}], \"scattermapbox\": [{\"marker\": {\"colorbar\": {\"outlinewidth\": 0, \"ticks\": \"\"}}, \"type\": \"scattermapbox\"}], \"scatterpolar\": [{\"marker\": {\"colorbar\": {\"outlinewidth\": 0, \"ticks\": \"\"}}, \"type\": \"scatterpolar\"}], \"scatterpolargl\": [{\"marker\": {\"colorbar\": {\"outlinewidth\": 0, \"ticks\": \"\"}}, \"type\": \"scatterpolargl\"}], \"scatterternary\": [{\"marker\": {\"colorbar\": {\"outlinewidth\": 0, \"ticks\": \"\"}}, \"type\": \"scatterternary\"}], \"surface\": [{\"colorbar\": {\"outlinewidth\": 0, \"ticks\": \"\"}, \"colorscale\": [[0.0, \"#0d0887\"], [0.1111111111111111, \"#46039f\"], [0.2222222222222222, \"#7201a8\"], [0.3333333333333333, \"#9c179e\"], [0.4444444444444444, \"#bd3786\"], [0.5555555555555556, \"#d8576b\"], [0.6666666666666666, \"#ed7953\"], [0.7777777777777778, \"#fb9f3a\"], [0.8888888888888888, \"#fdca26\"], [1.0, \"#f0f921\"]], \"type\": \"surface\"}], \"table\": [{\"cells\": {\"fill\": {\"color\": \"#EBF0F8\"}, \"line\": {\"color\": \"white\"}}, \"header\": {\"fill\": {\"color\": \"#C8D4E3\"}, \"line\": {\"color\": \"white\"}}, \"type\": \"table\"}]}, \"layout\": {\"annotationdefaults\": {\"arrowcolor\": \"#2a3f5f\", \"arrowhead\": 0, \"arrowwidth\": 1}, \"coloraxis\": {\"colorbar\": {\"outlinewidth\": 0, \"ticks\": \"\"}}, \"colorscale\": {\"diverging\": [[0, \"#8e0152\"], [0.1, \"#c51b7d\"], [0.2, \"#de77ae\"], [0.3, \"#f1b6da\"], [0.4, \"#fde0ef\"], [0.5, \"#f7f7f7\"], [0.6, \"#e6f5d0\"], [0.7, \"#b8e186\"], [0.8, \"#7fbc41\"], [0.9, \"#4d9221\"], [1, \"#276419\"]], \"sequential\": [[0.0, \"#0d0887\"], [0.1111111111111111, \"#46039f\"], [0.2222222222222222, \"#7201a8\"], [0.3333333333333333, \"#9c179e\"], [0.4444444444444444, \"#bd3786\"], [0.5555555555555556, \"#d8576b\"], [0.6666666666666666, \"#ed7953\"], [0.7777777777777778, \"#fb9f3a\"], [0.8888888888888888, \"#fdca26\"], [1.0, \"#f0f921\"]], \"sequentialminus\": [[0.0, \"#0d0887\"], [0.1111111111111111, \"#46039f\"], [0.2222222222222222, \"#7201a8\"], [0.3333333333333333, \"#9c179e\"], [0.4444444444444444, \"#bd3786\"], [0.5555555555555556, \"#d8576b\"], [0.6666666666666666, \"#ed7953\"], [0.7777777777777778, \"#fb9f3a\"], [0.8888888888888888, \"#fdca26\"], [1.0, \"#f0f921\"]]}, \"colorway\": [\"#636efa\", \"#EF553B\", \"#00cc96\", \"#ab63fa\", \"#FFA15A\", \"#19d3f3\", \"#FF6692\", \"#B6E880\", \"#FF97FF\", \"#FECB52\"], \"font\": {\"color\": \"#2a3f5f\"}, \"geo\": {\"bgcolor\": \"white\", \"lakecolor\": \"white\", \"landcolor\": \"#E5ECF6\", \"showlakes\": true, \"showland\": true, \"subunitcolor\": \"white\"}, \"hoverlabel\": {\"align\": \"left\"}, \"hovermode\": \"closest\", \"mapbox\": {\"style\": \"light\"}, \"paper_bgcolor\": \"white\", \"plot_bgcolor\": \"#E5ECF6\", \"polar\": {\"angularaxis\": {\"gridcolor\": \"white\", \"linecolor\": \"white\", \"ticks\": \"\"}, \"bgcolor\": \"#E5ECF6\", \"radialaxis\": {\"gridcolor\": \"white\", \"linecolor\": \"white\", \"ticks\": \"\"}}, \"scene\": {\"xaxis\": {\"backgroundcolor\": \"#E5ECF6\", \"gridcolor\": \"white\", \"gridwidth\": 2, \"linecolor\": \"white\", \"showbackground\": true, \"ticks\": \"\", \"zerolinecolor\": \"white\"}, \"yaxis\": {\"backgroundcolor\": \"#E5ECF6\", \"gridcolor\": \"white\", \"gridwidth\": 2, \"linecolor\": \"white\", \"showbackground\": true, \"ticks\": \"\", \"zerolinecolor\": \"white\"}, \"zaxis\": {\"backgroundcolor\": \"#E5ECF6\", \"gridcolor\": \"white\", \"gridwidth\": 2, \"linecolor\": \"white\", \"showbackground\": true, \"ticks\": \"\", \"zerolinecolor\": \"white\"}}, \"shapedefaults\": {\"line\": {\"color\": \"#2a3f5f\"}}, \"ternary\": {\"aaxis\": {\"gridcolor\": \"white\", \"linecolor\": \"white\", \"ticks\": \"\"}, \"baxis\": {\"gridcolor\": \"white\", \"linecolor\": \"white\", \"ticks\": \"\"}, \"bgcolor\": \"#E5ECF6\", \"caxis\": {\"gridcolor\": \"white\", \"linecolor\": \"white\", \"ticks\": \"\"}}, \"title\": {\"x\": 0.05}, \"xaxis\": {\"automargin\": true, \"gridcolor\": \"white\", \"linecolor\": \"white\", \"ticks\": \"\", \"title\": {\"standoff\": 15}, \"zerolinecolor\": \"white\", \"zerolinewidth\": 2}, \"yaxis\": {\"automargin\": true, \"gridcolor\": \"white\", \"linecolor\": \"white\", \"ticks\": \"\", \"title\": {\"standoff\": 15}, \"zerolinecolor\": \"white\", \"zerolinewidth\": 2}}}, \"title\": {\"text\": \"sales\"}, \"xaxis\": {\"anchor\": \"y\", \"domain\": [0.0, 0.94]}, \"yaxis\": {\"anchor\": \"x\", \"domain\": [0.0, 1.0], \"title\": {\"text\": \"item_cnt_day\"}}, \"yaxis2\": {\"anchor\": \"x\", \"overlaying\": \"y\", \"side\": \"right\", \"title\": {\"text\": \"mkey\"}}},\n",
       "                        {\"responsive\": true}\n",
       "                    ).then(function(){\n",
       "                            \n",
       "var gd = document.getElementById('d196ec24-8811-45be-a61c-12688db55515');\n",
       "var x = new MutationObserver(function (mutations, observer) {{\n",
       "        var display = window.getComputedStyle(gd).display;\n",
       "        if (!display || display === 'none') {{\n",
       "            console.log([gd, 'removed!']);\n",
       "            Plotly.purge(gd);\n",
       "            observer.disconnect();\n",
       "        }}\n",
       "}});\n",
       "\n",
       "// Listen for the removal of the full notebook cells\n",
       "var notebookContainer = gd.closest('#notebook-container');\n",
       "if (notebookContainer) {{\n",
       "    x.observe(notebookContainer, {childList: true});\n",
       "}}\n",
       "\n",
       "// Listen for the clearing of the current output cell\n",
       "var outputEl = gd.closest('.output');\n",
       "if (outputEl) {{\n",
       "    x.observe(outputEl, {childList: true});\n",
       "}}\n",
       "\n",
       "                        })\n",
       "                };\n",
       "                });\n",
       "            </script>\n",
       "        </div>"
      ]
     },
     "metadata": {},
     "output_type": "display_data"
    }
   ],
   "source": [
    "aggregations = {\n",
    "    'item_cnt_day':'sum',\n",
    "    'mkey':pd.Series.nunique\n",
    "}\n",
    "\n",
    "grouped = data['sales_train'].groupby(['year','month'], as_index=False).agg(aggregations)\n",
    "\n",
    "grouped['YYYYMM'] = [f\"_{i}{str(j).zfill(2)}\" for i, j in zip(grouped.year, grouped.month)]\n",
    "\n",
    "dualaxislineplot(data=grouped, x=\"YYYYMM\", primary_y=\"item_cnt_day\", secondary_y=\"mkey\", title='sales')"
   ]
  },
  {
   "cell_type": "code",
   "execution_count": 102,
   "metadata": {},
   "outputs": [
    {
     "data": {
      "text/html": [
       "<style  type=\"text/css\" >\n",
       "    #T_6629ccbc_8197_11ea_8fb9_75611b9c7409row0_col0 {\n",
       "            background-color:  #b40426;\n",
       "            color:  #f1f1f1;\n",
       "        }    #T_6629ccbc_8197_11ea_8fb9_75611b9c7409row0_col1 {\n",
       "            background-color:  #465ecf;\n",
       "            color:  #f1f1f1;\n",
       "        }    #T_6629ccbc_8197_11ea_8fb9_75611b9c7409row0_col2 {\n",
       "            background-color:  #6282ea;\n",
       "            color:  #000000;\n",
       "        }    #T_6629ccbc_8197_11ea_8fb9_75611b9c7409row0_col3 {\n",
       "            background-color:  #7b9ff9;\n",
       "            color:  #000000;\n",
       "        }    #T_6629ccbc_8197_11ea_8fb9_75611b9c7409row0_col4 {\n",
       "            background-color:  #3e51c5;\n",
       "            color:  #f1f1f1;\n",
       "        }    #T_6629ccbc_8197_11ea_8fb9_75611b9c7409row0_col5 {\n",
       "            background-color:  #cb3e38;\n",
       "            color:  #f1f1f1;\n",
       "        }    #T_6629ccbc_8197_11ea_8fb9_75611b9c7409row0_col6 {\n",
       "            background-color:  #aac7fd;\n",
       "            color:  #000000;\n",
       "        }    #T_6629ccbc_8197_11ea_8fb9_75611b9c7409row1_col0 {\n",
       "            background-color:  #3d50c3;\n",
       "            color:  #f1f1f1;\n",
       "        }    #T_6629ccbc_8197_11ea_8fb9_75611b9c7409row1_col1 {\n",
       "            background-color:  #b40426;\n",
       "            color:  #f1f1f1;\n",
       "        }    #T_6629ccbc_8197_11ea_8fb9_75611b9c7409row1_col2 {\n",
       "            background-color:  #6788ee;\n",
       "            color:  #000000;\n",
       "        }    #T_6629ccbc_8197_11ea_8fb9_75611b9c7409row1_col3 {\n",
       "            background-color:  #5875e1;\n",
       "            color:  #000000;\n",
       "        }    #T_6629ccbc_8197_11ea_8fb9_75611b9c7409row1_col4 {\n",
       "            background-color:  #3b4cc0;\n",
       "            color:  #f1f1f1;\n",
       "        }    #T_6629ccbc_8197_11ea_8fb9_75611b9c7409row1_col5 {\n",
       "            background-color:  #6282ea;\n",
       "            color:  #000000;\n",
       "        }    #T_6629ccbc_8197_11ea_8fb9_75611b9c7409row1_col6 {\n",
       "            background-color:  #6485ec;\n",
       "            color:  #000000;\n",
       "        }    #T_6629ccbc_8197_11ea_8fb9_75611b9c7409row2_col0 {\n",
       "            background-color:  #3b4cc0;\n",
       "            color:  #f1f1f1;\n",
       "        }    #T_6629ccbc_8197_11ea_8fb9_75611b9c7409row2_col1 {\n",
       "            background-color:  #4a63d3;\n",
       "            color:  #f1f1f1;\n",
       "        }    #T_6629ccbc_8197_11ea_8fb9_75611b9c7409row2_col2 {\n",
       "            background-color:  #b40426;\n",
       "            color:  #f1f1f1;\n",
       "        }    #T_6629ccbc_8197_11ea_8fb9_75611b9c7409row2_col3 {\n",
       "            background-color:  #3b4cc0;\n",
       "            color:  #f1f1f1;\n",
       "        }    #T_6629ccbc_8197_11ea_8fb9_75611b9c7409row2_col4 {\n",
       "            background-color:  #4055c8;\n",
       "            color:  #f1f1f1;\n",
       "        }    #T_6629ccbc_8197_11ea_8fb9_75611b9c7409row2_col5 {\n",
       "            background-color:  #6282ea;\n",
       "            color:  #000000;\n",
       "        }    #T_6629ccbc_8197_11ea_8fb9_75611b9c7409row2_col6 {\n",
       "            background-color:  #5e7de7;\n",
       "            color:  #000000;\n",
       "        }    #T_6629ccbc_8197_11ea_8fb9_75611b9c7409row3_col0 {\n",
       "            background-color:  #5572df;\n",
       "            color:  #000000;\n",
       "        }    #T_6629ccbc_8197_11ea_8fb9_75611b9c7409row3_col1 {\n",
       "            background-color:  #3b4cc0;\n",
       "            color:  #f1f1f1;\n",
       "        }    #T_6629ccbc_8197_11ea_8fb9_75611b9c7409row3_col2 {\n",
       "            background-color:  #3b4cc0;\n",
       "            color:  #f1f1f1;\n",
       "        }    #T_6629ccbc_8197_11ea_8fb9_75611b9c7409row3_col3 {\n",
       "            background-color:  #b40426;\n",
       "            color:  #f1f1f1;\n",
       "        }    #T_6629ccbc_8197_11ea_8fb9_75611b9c7409row3_col4 {\n",
       "            background-color:  #3f53c6;\n",
       "            color:  #f1f1f1;\n",
       "        }    #T_6629ccbc_8197_11ea_8fb9_75611b9c7409row3_col5 {\n",
       "            background-color:  #779af7;\n",
       "            color:  #000000;\n",
       "        }    #T_6629ccbc_8197_11ea_8fb9_75611b9c7409row3_col6 {\n",
       "            background-color:  #6c8ff1;\n",
       "            color:  #000000;\n",
       "        }    #T_6629ccbc_8197_11ea_8fb9_75611b9c7409row4_col0 {\n",
       "            background-color:  #3b4cc0;\n",
       "            color:  #f1f1f1;\n",
       "        }    #T_6629ccbc_8197_11ea_8fb9_75611b9c7409row4_col1 {\n",
       "            background-color:  #3f53c6;\n",
       "            color:  #f1f1f1;\n",
       "        }    #T_6629ccbc_8197_11ea_8fb9_75611b9c7409row4_col2 {\n",
       "            background-color:  #6485ec;\n",
       "            color:  #000000;\n",
       "        }    #T_6629ccbc_8197_11ea_8fb9_75611b9c7409row4_col3 {\n",
       "            background-color:  #6282ea;\n",
       "            color:  #000000;\n",
       "        }    #T_6629ccbc_8197_11ea_8fb9_75611b9c7409row4_col4 {\n",
       "            background-color:  #b40426;\n",
       "            color:  #f1f1f1;\n",
       "        }    #T_6629ccbc_8197_11ea_8fb9_75611b9c7409row4_col5 {\n",
       "            background-color:  #5f7fe8;\n",
       "            color:  #000000;\n",
       "        }    #T_6629ccbc_8197_11ea_8fb9_75611b9c7409row4_col6 {\n",
       "            background-color:  #6485ec;\n",
       "            color:  #000000;\n",
       "        }    #T_6629ccbc_8197_11ea_8fb9_75611b9c7409row5_col0 {\n",
       "            background-color:  #cd423b;\n",
       "            color:  #f1f1f1;\n",
       "        }    #T_6629ccbc_8197_11ea_8fb9_75611b9c7409row5_col1 {\n",
       "            background-color:  #445acc;\n",
       "            color:  #f1f1f1;\n",
       "        }    #T_6629ccbc_8197_11ea_8fb9_75611b9c7409row5_col2 {\n",
       "            background-color:  #6282ea;\n",
       "            color:  #000000;\n",
       "        }    #T_6629ccbc_8197_11ea_8fb9_75611b9c7409row5_col3 {\n",
       "            background-color:  #779af7;\n",
       "            color:  #000000;\n",
       "        }    #T_6629ccbc_8197_11ea_8fb9_75611b9c7409row5_col4 {\n",
       "            background-color:  #3d50c3;\n",
       "            color:  #f1f1f1;\n",
       "        }    #T_6629ccbc_8197_11ea_8fb9_75611b9c7409row5_col5 {\n",
       "            background-color:  #b40426;\n",
       "            color:  #f1f1f1;\n",
       "        }    #T_6629ccbc_8197_11ea_8fb9_75611b9c7409row5_col6 {\n",
       "            background-color:  #3b4cc0;\n",
       "            color:  #f1f1f1;\n",
       "        }    #T_6629ccbc_8197_11ea_8fb9_75611b9c7409row6_col0 {\n",
       "            background-color:  #88abfd;\n",
       "            color:  #000000;\n",
       "        }    #T_6629ccbc_8197_11ea_8fb9_75611b9c7409row6_col1 {\n",
       "            background-color:  #485fd1;\n",
       "            color:  #f1f1f1;\n",
       "        }    #T_6629ccbc_8197_11ea_8fb9_75611b9c7409row6_col2 {\n",
       "            background-color:  #5e7de7;\n",
       "            color:  #000000;\n",
       "        }    #T_6629ccbc_8197_11ea_8fb9_75611b9c7409row6_col3 {\n",
       "            background-color:  #6c8ff1;\n",
       "            color:  #000000;\n",
       "        }    #T_6629ccbc_8197_11ea_8fb9_75611b9c7409row6_col4 {\n",
       "            background-color:  #4055c8;\n",
       "            color:  #f1f1f1;\n",
       "        }    #T_6629ccbc_8197_11ea_8fb9_75611b9c7409row6_col5 {\n",
       "            background-color:  #3b4cc0;\n",
       "            color:  #f1f1f1;\n",
       "        }    #T_6629ccbc_8197_11ea_8fb9_75611b9c7409row6_col6 {\n",
       "            background-color:  #b40426;\n",
       "            color:  #f1f1f1;\n",
       "        }</style><table id=\"T_6629ccbc_8197_11ea_8fb9_75611b9c7409\" ><thead>    <tr>        <th class=\"blank level0\" ></th>        <th class=\"col_heading level0 col0\" >date_block_num</th>        <th class=\"col_heading level0 col1\" >shop_id</th>        <th class=\"col_heading level0 col2\" >item_id</th>        <th class=\"col_heading level0 col3\" >item_price</th>        <th class=\"col_heading level0 col4\" >item_cnt_day</th>        <th class=\"col_heading level0 col5\" >year</th>        <th class=\"col_heading level0 col6\" >month</th>    </tr></thead><tbody>\n",
       "                <tr>\n",
       "                        <th id=\"T_6629ccbc_8197_11ea_8fb9_75611b9c7409level0_row0\" class=\"row_heading level0 row0\" >date_block_num</th>\n",
       "                        <td id=\"T_6629ccbc_8197_11ea_8fb9_75611b9c7409row0_col0\" class=\"data row0 col0\" >1.000000</td>\n",
       "                        <td id=\"T_6629ccbc_8197_11ea_8fb9_75611b9c7409row0_col1\" class=\"data row0 col1\" >0.019273</td>\n",
       "                        <td id=\"T_6629ccbc_8197_11ea_8fb9_75611b9c7409row0_col2\" class=\"data row0 col2\" >0.009356</td>\n",
       "                        <td id=\"T_6629ccbc_8197_11ea_8fb9_75611b9c7409row0_col3\" class=\"data row0 col3\" >0.095010</td>\n",
       "                        <td id=\"T_6629ccbc_8197_11ea_8fb9_75611b9c7409row0_col4\" class=\"data row0 col4\" >0.009402</td>\n",
       "                        <td id=\"T_6629ccbc_8197_11ea_8fb9_75611b9c7409row0_col5\" class=\"data row0 col5\" >0.928280</td>\n",
       "                        <td id=\"T_6629ccbc_8197_11ea_8fb9_75611b9c7409row0_col6\" class=\"data row0 col6\" >0.243939</td>\n",
       "            </tr>\n",
       "            <tr>\n",
       "                        <th id=\"T_6629ccbc_8197_11ea_8fb9_75611b9c7409level0_row1\" class=\"row_heading level0 row1\" >shop_id</th>\n",
       "                        <td id=\"T_6629ccbc_8197_11ea_8fb9_75611b9c7409row1_col0\" class=\"data row1 col0\" >0.019273</td>\n",
       "                        <td id=\"T_6629ccbc_8197_11ea_8fb9_75611b9c7409row1_col1\" class=\"data row1 col1\" >1.000000</td>\n",
       "                        <td id=\"T_6629ccbc_8197_11ea_8fb9_75611b9c7409row1_col2\" class=\"data row1 col2\" >0.029396</td>\n",
       "                        <td id=\"T_6629ccbc_8197_11ea_8fb9_75611b9c7409row1_col3\" class=\"data row1 col3\" >-0.024034</td>\n",
       "                        <td id=\"T_6629ccbc_8197_11ea_8fb9_75611b9c7409row1_col4\" class=\"data row1 col4\" >-0.005230</td>\n",
       "                        <td id=\"T_6629ccbc_8197_11ea_8fb9_75611b9c7409row1_col5\" class=\"data row1 col5\" >0.011805</td>\n",
       "                        <td id=\"T_6629ccbc_8197_11ea_8fb9_75611b9c7409row1_col6\" class=\"data row1 col6\" >0.020574</td>\n",
       "            </tr>\n",
       "            <tr>\n",
       "                        <th id=\"T_6629ccbc_8197_11ea_8fb9_75611b9c7409level0_row2\" class=\"row_heading level0 row2\" >item_id</th>\n",
       "                        <td id=\"T_6629ccbc_8197_11ea_8fb9_75611b9c7409row2_col0\" class=\"data row2 col0\" >0.009356</td>\n",
       "                        <td id=\"T_6629ccbc_8197_11ea_8fb9_75611b9c7409row2_col1\" class=\"data row2 col1\" >0.029396</td>\n",
       "                        <td id=\"T_6629ccbc_8197_11ea_8fb9_75611b9c7409row2_col2\" class=\"data row2 col2\" >1.000000</td>\n",
       "                        <td id=\"T_6629ccbc_8197_11ea_8fb9_75611b9c7409row2_col3\" class=\"data row2 col3\" >-0.134104</td>\n",
       "                        <td id=\"T_6629ccbc_8197_11ea_8fb9_75611b9c7409row2_col4\" class=\"data row2 col4\" >0.016650</td>\n",
       "                        <td id=\"T_6629ccbc_8197_11ea_8fb9_75611b9c7409row2_col5\" class=\"data row2 col5\" >0.010340</td>\n",
       "                        <td id=\"T_6629ccbc_8197_11ea_8fb9_75611b9c7409row2_col6\" class=\"data row2 col6\" >-0.002034</td>\n",
       "            </tr>\n",
       "            <tr>\n",
       "                        <th id=\"T_6629ccbc_8197_11ea_8fb9_75611b9c7409level0_row3\" class=\"row_heading level0 row3\" >item_price</th>\n",
       "                        <td id=\"T_6629ccbc_8197_11ea_8fb9_75611b9c7409row3_col0\" class=\"data row3 col0\" >0.095010</td>\n",
       "                        <td id=\"T_6629ccbc_8197_11ea_8fb9_75611b9c7409row3_col1\" class=\"data row3 col1\" >-0.024034</td>\n",
       "                        <td id=\"T_6629ccbc_8197_11ea_8fb9_75611b9c7409row3_col2\" class=\"data row3 col2\" >-0.134104</td>\n",
       "                        <td id=\"T_6629ccbc_8197_11ea_8fb9_75611b9c7409row3_col3\" class=\"data row3 col3\" >1.000000</td>\n",
       "                        <td id=\"T_6629ccbc_8197_11ea_8fb9_75611b9c7409row3_col4\" class=\"data row3 col4\" >0.011197</td>\n",
       "                        <td id=\"T_6629ccbc_8197_11ea_8fb9_75611b9c7409row3_col5\" class=\"data row3 col5\" >0.080192</td>\n",
       "                        <td id=\"T_6629ccbc_8197_11ea_8fb9_75611b9c7409row3_col6\" class=\"data row3 col6\" >0.044049</td>\n",
       "            </tr>\n",
       "            <tr>\n",
       "                        <th id=\"T_6629ccbc_8197_11ea_8fb9_75611b9c7409level0_row4\" class=\"row_heading level0 row4\" >item_cnt_day</th>\n",
       "                        <td id=\"T_6629ccbc_8197_11ea_8fb9_75611b9c7409row4_col0\" class=\"data row4 col0\" >0.009402</td>\n",
       "                        <td id=\"T_6629ccbc_8197_11ea_8fb9_75611b9c7409row4_col1\" class=\"data row4 col1\" >-0.005230</td>\n",
       "                        <td id=\"T_6629ccbc_8197_11ea_8fb9_75611b9c7409row4_col2\" class=\"data row4 col2\" >0.016650</td>\n",
       "                        <td id=\"T_6629ccbc_8197_11ea_8fb9_75611b9c7409row4_col3\" class=\"data row4 col3\" >0.011197</td>\n",
       "                        <td id=\"T_6629ccbc_8197_11ea_8fb9_75611b9c7409row4_col4\" class=\"data row4 col4\" >1.000000</td>\n",
       "                        <td id=\"T_6629ccbc_8197_11ea_8fb9_75611b9c7409row4_col5\" class=\"data row4 col5\" >0.002699</td>\n",
       "                        <td id=\"T_6629ccbc_8197_11ea_8fb9_75611b9c7409row4_col6\" class=\"data row4 col6\" >0.018014</td>\n",
       "            </tr>\n",
       "            <tr>\n",
       "                        <th id=\"T_6629ccbc_8197_11ea_8fb9_75611b9c7409level0_row5\" class=\"row_heading level0 row5\" >year</th>\n",
       "                        <td id=\"T_6629ccbc_8197_11ea_8fb9_75611b9c7409row5_col0\" class=\"data row5 col0\" >0.928280</td>\n",
       "                        <td id=\"T_6629ccbc_8197_11ea_8fb9_75611b9c7409row5_col1\" class=\"data row5 col1\" >0.011805</td>\n",
       "                        <td id=\"T_6629ccbc_8197_11ea_8fb9_75611b9c7409row5_col2\" class=\"data row5 col2\" >0.010340</td>\n",
       "                        <td id=\"T_6629ccbc_8197_11ea_8fb9_75611b9c7409row5_col3\" class=\"data row5 col3\" >0.080192</td>\n",
       "                        <td id=\"T_6629ccbc_8197_11ea_8fb9_75611b9c7409row5_col4\" class=\"data row5 col4\" >0.002699</td>\n",
       "                        <td id=\"T_6629ccbc_8197_11ea_8fb9_75611b9c7409row5_col5\" class=\"data row5 col5\" >1.000000</td>\n",
       "                        <td id=\"T_6629ccbc_8197_11ea_8fb9_75611b9c7409row5_col6\" class=\"data row5 col6\" >-0.134203</td>\n",
       "            </tr>\n",
       "            <tr>\n",
       "                        <th id=\"T_6629ccbc_8197_11ea_8fb9_75611b9c7409level0_row6\" class=\"row_heading level0 row6\" >month</th>\n",
       "                        <td id=\"T_6629ccbc_8197_11ea_8fb9_75611b9c7409row6_col0\" class=\"data row6 col0\" >0.243939</td>\n",
       "                        <td id=\"T_6629ccbc_8197_11ea_8fb9_75611b9c7409row6_col1\" class=\"data row6 col1\" >0.020574</td>\n",
       "                        <td id=\"T_6629ccbc_8197_11ea_8fb9_75611b9c7409row6_col2\" class=\"data row6 col2\" >-0.002034</td>\n",
       "                        <td id=\"T_6629ccbc_8197_11ea_8fb9_75611b9c7409row6_col3\" class=\"data row6 col3\" >0.044049</td>\n",
       "                        <td id=\"T_6629ccbc_8197_11ea_8fb9_75611b9c7409row6_col4\" class=\"data row6 col4\" >0.018014</td>\n",
       "                        <td id=\"T_6629ccbc_8197_11ea_8fb9_75611b9c7409row6_col5\" class=\"data row6 col5\" >-0.134203</td>\n",
       "                        <td id=\"T_6629ccbc_8197_11ea_8fb9_75611b9c7409row6_col6\" class=\"data row6 col6\" >1.000000</td>\n",
       "            </tr>\n",
       "    </tbody></table>"
      ],
      "text/plain": [
       "<pandas.io.formats.style.Styler at 0x7f7604f111f0>"
      ]
     },
     "execution_count": 102,
     "metadata": {},
     "output_type": "execute_result"
    }
   ],
   "source": [
    "corr = data['sales_train'].corr()\n",
    "corr.style.background_gradient(cmap='coolwarm')"
   ]
  },
  {
   "cell_type": "code",
   "execution_count": 103,
   "metadata": {},
   "outputs": [
    {
     "data": {
      "text/html": [
       "<div>\n",
       "<style scoped>\n",
       "    .dataframe tbody tr th:only-of-type {\n",
       "        vertical-align: middle;\n",
       "    }\n",
       "\n",
       "    .dataframe tbody tr th {\n",
       "        vertical-align: top;\n",
       "    }\n",
       "\n",
       "    .dataframe thead th {\n",
       "        text-align: right;\n",
       "    }\n",
       "</style>\n",
       "<table border=\"1\" class=\"dataframe\">\n",
       "  <thead>\n",
       "    <tr style=\"text-align: right;\">\n",
       "      <th></th>\n",
       "      <th>date</th>\n",
       "      <th>date_block_num</th>\n",
       "      <th>shop_id</th>\n",
       "      <th>item_id</th>\n",
       "      <th>item_price</th>\n",
       "      <th>item_cnt_day</th>\n",
       "      <th>year</th>\n",
       "      <th>month</th>\n",
       "      <th>dow</th>\n",
       "      <th>mkey</th>\n",
       "    </tr>\n",
       "  </thead>\n",
       "  <tbody>\n",
       "    <tr>\n",
       "      <th>0</th>\n",
       "      <td>2013-01-02</td>\n",
       "      <td>0</td>\n",
       "      <td>59</td>\n",
       "      <td>22154</td>\n",
       "      <td>999.00</td>\n",
       "      <td>1.0</td>\n",
       "      <td>2013</td>\n",
       "      <td>1</td>\n",
       "      <td>Wednesday</td>\n",
       "      <td>59_22154</td>\n",
       "    </tr>\n",
       "    <tr>\n",
       "      <th>1</th>\n",
       "      <td>2013-01-03</td>\n",
       "      <td>0</td>\n",
       "      <td>25</td>\n",
       "      <td>2552</td>\n",
       "      <td>899.00</td>\n",
       "      <td>1.0</td>\n",
       "      <td>2013</td>\n",
       "      <td>1</td>\n",
       "      <td>Thursday</td>\n",
       "      <td>25_2552</td>\n",
       "    </tr>\n",
       "    <tr>\n",
       "      <th>2</th>\n",
       "      <td>2013-01-05</td>\n",
       "      <td>0</td>\n",
       "      <td>25</td>\n",
       "      <td>2552</td>\n",
       "      <td>899.00</td>\n",
       "      <td>-1.0</td>\n",
       "      <td>2013</td>\n",
       "      <td>1</td>\n",
       "      <td>Saturday</td>\n",
       "      <td>25_2552</td>\n",
       "    </tr>\n",
       "    <tr>\n",
       "      <th>3</th>\n",
       "      <td>2013-01-06</td>\n",
       "      <td>0</td>\n",
       "      <td>25</td>\n",
       "      <td>2554</td>\n",
       "      <td>1709.05</td>\n",
       "      <td>1.0</td>\n",
       "      <td>2013</td>\n",
       "      <td>1</td>\n",
       "      <td>Sunday</td>\n",
       "      <td>25_2554</td>\n",
       "    </tr>\n",
       "    <tr>\n",
       "      <th>4</th>\n",
       "      <td>2013-01-15</td>\n",
       "      <td>0</td>\n",
       "      <td>25</td>\n",
       "      <td>2555</td>\n",
       "      <td>1099.00</td>\n",
       "      <td>1.0</td>\n",
       "      <td>2013</td>\n",
       "      <td>1</td>\n",
       "      <td>Tuesday</td>\n",
       "      <td>25_2555</td>\n",
       "    </tr>\n",
       "  </tbody>\n",
       "</table>\n",
       "</div>"
      ],
      "text/plain": [
       "        date  date_block_num  shop_id  item_id  item_price  item_cnt_day  \\\n",
       "0 2013-01-02               0       59    22154      999.00           1.0   \n",
       "1 2013-01-03               0       25     2552      899.00           1.0   \n",
       "2 2013-01-05               0       25     2552      899.00          -1.0   \n",
       "3 2013-01-06               0       25     2554     1709.05           1.0   \n",
       "4 2013-01-15               0       25     2555     1099.00           1.0   \n",
       "\n",
       "   year  month        dow      mkey  \n",
       "0  2013      1  Wednesday  59_22154  \n",
       "1  2013      1   Thursday   25_2552  \n",
       "2  2013      1   Saturday   25_2552  \n",
       "3  2013      1     Sunday   25_2554  \n",
       "4  2013      1    Tuesday   25_2555  "
      ]
     },
     "execution_count": 103,
     "metadata": {},
     "output_type": "execute_result"
    }
   ],
   "source": [
    "data['sales_train'].head()"
   ]
  },
  {
   "cell_type": "code",
   "execution_count": 104,
   "metadata": {},
   "outputs": [
    {
     "data": {
      "text/html": [
       "<div>\n",
       "<style scoped>\n",
       "    .dataframe tbody tr th:only-of-type {\n",
       "        vertical-align: middle;\n",
       "    }\n",
       "\n",
       "    .dataframe tbody tr th {\n",
       "        vertical-align: top;\n",
       "    }\n",
       "\n",
       "    .dataframe thead th {\n",
       "        text-align: right;\n",
       "    }\n",
       "</style>\n",
       "<table border=\"1\" class=\"dataframe\">\n",
       "  <thead>\n",
       "    <tr style=\"text-align: right;\">\n",
       "      <th></th>\n",
       "      <th>mkey</th>\n",
       "      <th>date</th>\n",
       "    </tr>\n",
       "  </thead>\n",
       "  <tbody>\n",
       "    <tr>\n",
       "      <th>146521</th>\n",
       "      <td>28_20949</td>\n",
       "      <td>867</td>\n",
       "    </tr>\n",
       "    <tr>\n",
       "      <th>335526</th>\n",
       "      <td>53_20949</td>\n",
       "      <td>863</td>\n",
       "    </tr>\n",
       "    <tr>\n",
       "      <th>182447</th>\n",
       "      <td>31_20949</td>\n",
       "      <td>863</td>\n",
       "    </tr>\n",
       "    <tr>\n",
       "      <th>89027</th>\n",
       "      <td>22_20949</td>\n",
       "      <td>848</td>\n",
       "    </tr>\n",
       "    <tr>\n",
       "      <th>244951</th>\n",
       "      <td>42_20949</td>\n",
       "      <td>834</td>\n",
       "    </tr>\n",
       "    <tr>\n",
       "      <th>...</th>\n",
       "      <td>...</td>\n",
       "      <td>...</td>\n",
       "    </tr>\n",
       "    <tr>\n",
       "      <th>298697</th>\n",
       "      <td>4_12781</td>\n",
       "      <td>1</td>\n",
       "    </tr>\n",
       "    <tr>\n",
       "      <th>298698</th>\n",
       "      <td>4_12793</td>\n",
       "      <td>1</td>\n",
       "    </tr>\n",
       "    <tr>\n",
       "      <th>109458</th>\n",
       "      <td>25_17080</td>\n",
       "      <td>1</td>\n",
       "    </tr>\n",
       "    <tr>\n",
       "      <th>109467</th>\n",
       "      <td>25_17092</td>\n",
       "      <td>1</td>\n",
       "    </tr>\n",
       "    <tr>\n",
       "      <th>283282</th>\n",
       "      <td>47_13525</td>\n",
       "      <td>1</td>\n",
       "    </tr>\n",
       "  </tbody>\n",
       "</table>\n",
       "<p>424124 rows × 2 columns</p>\n",
       "</div>"
      ],
      "text/plain": [
       "            mkey  date\n",
       "146521  28_20949   867\n",
       "335526  53_20949   863\n",
       "182447  31_20949   863\n",
       "89027   22_20949   848\n",
       "244951  42_20949   834\n",
       "...          ...   ...\n",
       "298697   4_12781     1\n",
       "298698   4_12793     1\n",
       "109458  25_17080     1\n",
       "109467  25_17092     1\n",
       "283282  47_13525     1\n",
       "\n",
       "[424124 rows x 2 columns]"
      ]
     },
     "execution_count": 104,
     "metadata": {},
     "output_type": "execute_result"
    }
   ],
   "source": [
    "data['sales_train'].groupby(['mkey'], as_index=False).agg({\n",
    "    'date':'count'\n",
    "}).sort_values(by='date', ascending=False)"
   ]
  },
  {
   "cell_type": "code",
   "execution_count": 118,
   "metadata": {},
   "outputs": [
    {
     "data": {
      "text/html": [
       "<div>\n",
       "<style scoped>\n",
       "    .dataframe tbody tr th:only-of-type {\n",
       "        vertical-align: middle;\n",
       "    }\n",
       "\n",
       "    .dataframe tbody tr th {\n",
       "        vertical-align: top;\n",
       "    }\n",
       "\n",
       "    .dataframe thead th {\n",
       "        text-align: right;\n",
       "    }\n",
       "</style>\n",
       "<table border=\"1\" class=\"dataframe\">\n",
       "  <thead>\n",
       "    <tr style=\"text-align: right;\">\n",
       "      <th></th>\n",
       "      <th>date</th>\n",
       "      <th>date_block_num</th>\n",
       "      <th>shop_id</th>\n",
       "      <th>item_id</th>\n",
       "      <th>item_price</th>\n",
       "      <th>item_cnt_day</th>\n",
       "      <th>year</th>\n",
       "      <th>month</th>\n",
       "      <th>dow</th>\n",
       "      <th>mkey</th>\n",
       "    </tr>\n",
       "  </thead>\n",
       "  <tbody>\n",
       "    <tr>\n",
       "      <th>1823800</th>\n",
       "      <td>2014-07-30</td>\n",
       "      <td>18</td>\n",
       "      <td>51</td>\n",
       "      <td>13525</td>\n",
       "      <td>21.0</td>\n",
       "      <td>1.0</td>\n",
       "      <td>2014</td>\n",
       "      <td>7</td>\n",
       "      <td>Wednesday</td>\n",
       "      <td>51_13525</td>\n",
       "    </tr>\n",
       "    <tr>\n",
       "      <th>1828248</th>\n",
       "      <td>2014-07-29</td>\n",
       "      <td>18</td>\n",
       "      <td>10</td>\n",
       "      <td>13525</td>\n",
       "      <td>21.0</td>\n",
       "      <td>1.0</td>\n",
       "      <td>2014</td>\n",
       "      <td>7</td>\n",
       "      <td>Tuesday</td>\n",
       "      <td>10_13525</td>\n",
       "    </tr>\n",
       "    <tr>\n",
       "      <th>1904180</th>\n",
       "      <td>2014-08-25</td>\n",
       "      <td>19</td>\n",
       "      <td>51</td>\n",
       "      <td>13525</td>\n",
       "      <td>21.0</td>\n",
       "      <td>1.0</td>\n",
       "      <td>2014</td>\n",
       "      <td>8</td>\n",
       "      <td>Monday</td>\n",
       "      <td>51_13525</td>\n",
       "    </tr>\n",
       "  </tbody>\n",
       "</table>\n",
       "</div>"
      ],
      "text/plain": [
       "              date  date_block_num  shop_id  item_id  item_price  \\\n",
       "1823800 2014-07-30              18       51    13525        21.0   \n",
       "1828248 2014-07-29              18       10    13525        21.0   \n",
       "1904180 2014-08-25              19       51    13525        21.0   \n",
       "\n",
       "         item_cnt_day  year  month        dow      mkey  \n",
       "1823800           1.0  2014      7  Wednesday  51_13525  \n",
       "1828248           1.0  2014      7    Tuesday  10_13525  \n",
       "1904180           1.0  2014      8     Monday  51_13525  "
      ]
     },
     "execution_count": 118,
     "metadata": {},
     "output_type": "execute_result"
    }
   ],
   "source": [
    "data['sales_train'][(data['sales_train']['item_id'] == 13525) & (data['sales_train']['item_price'] == 21)]"
   ]
  },
  {
   "cell_type": "code",
   "execution_count": 125,
   "metadata": {},
   "outputs": [
    {
     "name": "stdout",
     "output_type": "stream",
     "text": [
      "              date  date_block_num  shop_id  item_id  item_price  \\\n",
      "1823800 2014-07-30              18       51    13525        21.0   \n",
      "1904180 2014-08-25              19       51    13525        21.0   \n",
      "\n",
      "         item_cnt_day  year  month        dow      mkey  \n",
      "1823800           1.0  2014      7  Wednesday  51_13525  \n",
      "1904180           1.0  2014      8     Monday  51_13525  \n"
     ]
    }
   ],
   "source": [
    "df = data['sales_train'].copy()\n",
    "print(df[(df.item_id==13525) & (df.shop_id==51)])\n",
    "del df"
   ]
  },
  {
   "cell_type": "code",
   "execution_count": null,
   "metadata": {},
   "outputs": [],
   "source": []
  },
  {
   "cell_type": "code",
   "execution_count": null,
   "metadata": {},
   "outputs": [],
   "source": []
  },
  {
   "cell_type": "code",
   "execution_count": null,
   "metadata": {},
   "outputs": [],
   "source": []
  },
  {
   "cell_type": "code",
   "execution_count": null,
   "metadata": {},
   "outputs": [],
   "source": []
  },
  {
   "cell_type": "code",
   "execution_count": null,
   "metadata": {},
   "outputs": [],
   "source": []
  },
  {
   "cell_type": "code",
   "execution_count": null,
   "metadata": {},
   "outputs": [],
   "source": []
  },
  {
   "cell_type": "code",
   "execution_count": null,
   "metadata": {},
   "outputs": [],
   "source": []
  }
 ],
 "metadata": {
  "kernelspec": {
   "display_name": "Python 3",
   "language": "python",
   "name": "python3"
  },
  "language_info": {
   "codemirror_mode": {
    "name": "ipython",
    "version": 3
   },
   "file_extension": ".py",
   "mimetype": "text/x-python",
   "name": "python",
   "nbconvert_exporter": "python",
   "pygments_lexer": "ipython3",
   "version": "3.8.2"
  }
 },
 "nbformat": 4,
 "nbformat_minor": 4
}
